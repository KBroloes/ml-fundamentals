{
 "cells": [
  {
   "cell_type": "markdown",
   "metadata": {},
   "source": [
    "# Getting Started (our tools)\n",
    "\n",
    "**Author: [Kevin Broløs](https://abzu.ai/team)**\n",
    "\n",
    "A small introduction to the required tools in this project"
   ]
  },
  {
   "cell_type": "markdown",
   "metadata": {},
   "source": [
    "# Jupyter\n",
    "\n",
    "Those of you new to jupyter notebooks:\n",
    "\n",
    "Either click the **>| Run** button or **Shift+Enter** to step through each cell, or the **>>** button to restart and run all cells\n",
    "\n",
    "When a cell has run, it'll display a numbering to the left of it, indicating in what order it was run (as you can run them out of sync). While it's running, it'll display an asterisk (**\\***) to indicate it's working.\n",
    "\n",
    "The final output will be displayed in an output cell below the cell, along with any printed output along the way."
   ]
  },
  {
   "cell_type": "code",
   "execution_count": 1,
   "metadata": {},
   "outputs": [
    {
     "name": "stdout",
     "output_type": "stream",
     "text": [
      "Before we start, I just want to say:\n"
     ]
    },
    {
     "data": {
      "text/plain": [
       "'Hello world'"
      ]
     },
     "execution_count": 1,
     "metadata": {},
     "output_type": "execute_result"
    }
   ],
   "source": [
    "# You can write code in here as normal, and execute using shift+enter\n",
    "string = \"Hello world\"\n",
    "\n",
    "# And you can print in between\n",
    "print(\"Before we start, I just want to say:\")\n",
    "\n",
    "# The last statement will be automatically output\n",
    "string"
   ]
  },
  {
   "cell_type": "markdown",
   "metadata": {},
   "source": [
    "# Numpy\n",
    "\n",
    "Numpy (Pronounced Num-Py - as in number and python), is a super fast array/matrix library that supports large data matrices, and allows you do do all kinds of manipulations on these objects. It supports multiple dimensions and is very well suited for fast matrix manipulations and linear algebra."
   ]
  },
  {
   "cell_type": "code",
   "execution_count": 2,
   "metadata": {},
   "outputs": [
    {
     "data": {
      "text/plain": [
       "(array([[ 1],\n",
       "        [ 2],\n",
       "        [ 3],\n",
       "        [ 4],\n",
       "        [ 5],\n",
       "        [ 6],\n",
       "        [ 7],\n",
       "        [ 8],\n",
       "        [ 9],\n",
       "        [10]]),\n",
       " array([10,  5, 20, 15, 30, 25, 40, 35, 50, 45]))"
      ]
     },
     "execution_count": 2,
     "metadata": {},
     "output_type": "execute_result"
    }
   ],
   "source": [
    "import numpy as np\n",
    "\n",
    "# Create a numpy array as an X-matrix\n",
    "X = np.array([[1, 2, 3, 4, 5, 6, 7, 8, 9, 10]]).T # Transpose to make it columnar\n",
    "\n",
    "# Create another numpy array as a y-vector\n",
    "y = np.array([10, 5, 20, 15, 30, 25, 40, 35, 50, 45])\n",
    "\n",
    "X, y"
   ]
  },
  {
   "cell_type": "code",
   "execution_count": 3,
   "metadata": {},
   "outputs": [
    {
     "data": {
      "text/plain": [
       "array([[ 1,  2,  3,  4,  5,  6,  7,  8,  9, 10]])"
      ]
     },
     "execution_count": 3,
     "metadata": {},
     "output_type": "execute_result"
    }
   ],
   "source": [
    "# You can transpose an array using .T\n",
    "X.T"
   ]
  },
  {
   "cell_type": "code",
   "execution_count": 4,
   "metadata": {},
   "outputs": [
    {
     "data": {
      "text/plain": [
       "array([[1],\n",
       "       [2],\n",
       "       [3],\n",
       "       [4],\n",
       "       [5]])"
      ]
     },
     "execution_count": 4,
     "metadata": {},
     "output_type": "execute_result"
    }
   ],
   "source": [
    "# You can index a range using the : slice operator\n",
    "# Putting the slice at the start takes from start until index 5\n",
    "X[:5]"
   ]
  },
  {
   "cell_type": "code",
   "execution_count": 5,
   "metadata": {},
   "outputs": [
    {
     "data": {
      "text/plain": [
       "array([[ 6],\n",
       "       [ 7],\n",
       "       [ 8],\n",
       "       [ 9],\n",
       "       [10]])"
      ]
     },
     "execution_count": 5,
     "metadata": {},
     "output_type": "execute_result"
    }
   ],
   "source": [
    "# Putting the slice at the end takes from index 5 and upwards\n",
    "X[5:]"
   ]
  },
  {
   "cell_type": "markdown",
   "metadata": {},
   "source": [
    "# Matplotlib\n",
    "\n",
    "Matplotlib is the most used plotting library for python, and is also the base for other more accessible libraries (like seaborn, which we'll not use here).\n",
    "\n",
    "It is super powerful, and allows us to create plots with sequential code, and it natively understands all the structures we use for data processing."
   ]
  },
  {
   "cell_type": "code",
   "execution_count": 6,
   "metadata": {},
   "outputs": [
    {
     "data": {
      "image/png": "[encoded data removed]",
      "text/plain": [
       "<Figure size 432x288 with 1 Axes>"
      ]
     },
     "metadata": {
      "needs_background": "light"
     },
     "output_type": "display_data"
    }
   ],
   "source": [
    "import matplotlib.pyplot as plt\n",
    "\n",
    "plt.scatter(X, y)\n",
    "plt.show()"
   ]
  },
  {
   "cell_type": "markdown",
   "metadata": {},
   "source": [
    "# Scikit Learn\n",
    "\n",
    "Scikit learn is a huge package, that contains all kinds of libraries for data processing, analysis, evaluation and modeling.\n",
    "\n",
    "It also contains some statistical functions.\n",
    "\n",
    "We'll use it to load example datasets, we'll use it to calculate metrics on our results, to fit models on our data and probably much more."
   ]
  },
  {
   "cell_type": "code",
   "execution_count": 7,
   "metadata": {},
   "outputs": [
    {
     "data": {
      "image/png": "[encoded data removed]",
      "text/plain": [
       "<Figure size 432x288 with 1 Axes>"
      ]
     },
     "metadata": {
      "needs_background": "light"
     },
     "output_type": "display_data"
    }
   ],
   "source": [
    "from sklearn.linear_model import LinearRegression\n",
    "lm = LinearRegression()\n",
    "lm.fit(X, y)\n",
    "prediction = lm.predict(X.reshape(-1, 1))\n",
    "\n",
    "plt.plot(X, prediction, label='Prediction')\n",
    "plt.scatter(X, y, label='True values')\n",
    "plt.legend()\n",
    "plt.show()"
   ]
  },
  {
   "cell_type": "markdown",
   "metadata": {},
   "source": [
    "# Graphviz\n",
    "\n",
    "Graphviz is kind of an optional dependency, but it allows us to make visualizations of decision trees, so we can see how it splits"
   ]
  },
  {
   "cell_type": "code",
   "execution_count": 8,
   "metadata": {},
   "outputs": [],
   "source": [
    "# If you don't have graphviz installed, the following two commands should take care of it.\n",
    "# Just uncomment them and run\n",
    "\n",
    "#!conda install -y pygraphviz\n",
    "#!pip install graphviz"
   ]
  },
  {
   "cell_type": "code",
   "execution_count": 9,
   "metadata": {
    "scrolled": false
   },
   "outputs": [
    {
     "data": {
      "image/svg+xml": [
       "<?xml version=\"1.0\" encoding=\"UTF-8\" standalone=\"no\"?>\n",
       "<!DOCTYPE svg PUBLIC \"-//W3C//DTD SVG 1.1//EN\"\n",
       " \"http://www.w3.org/Graphics/SVG/1.1/DTD/svg11.dtd\">\n",
       "<!-- Generated by graphviz version 2.42.3 (20191010.1750)\n",
       " -->\n",
       "<!-- Title: Tree Pages: 1 -->\n",
       "<svg width=\"706pt\" height=\"358pt\"\n",
       " viewBox=\"0.00 0.00 706.08 358.00\" xmlns=\"http://www.w3.org/2000/svg\" xmlns:xlink=\"http://www.w3.org/1999/xlink\">\n",
       "<g id=\"graph0\" class=\"graph\" transform=\"scale(1 1) rotate(0) translate(4 354)\">\n",
       "<title>Tree</title>\n",
       "<polygon fill=\"white\" stroke=\"transparent\" points=\"-4,4 -4,-354 702.08,-354 702.08,4 -4,4\"/>\n",
       "<!-- 0 -->\n",
       "<g id=\"node1\" class=\"node\">\n",
       "<title>0</title>\n",
       "<path fill=\"#ffffff\" stroke=\"black\" d=\"M328.12,-350C328.12,-350 130.96,-350 130.96,-350 124.96,-350 118.96,-344 118.96,-338 118.96,-338 118.96,-298 118.96,-298 118.96,-292 124.96,-286 130.96,-286 130.96,-286 328.12,-286 328.12,-286 334.12,-286 340.12,-292 340.12,-298 340.12,-298 340.12,-338 340.12,-338 340.12,-344 334.12,-350 328.12,-350\"/>\n",
       "<text text-anchor=\"start\" x=\"208.58\" y=\"-334.8\" font-family=\"Helvetica,sans-Serif\" font-size=\"14.00\">x ≤ 1.5</text>\n",
       "<text text-anchor=\"start\" x=\"200.93\" y=\"-320.8\" font-family=\"Helvetica,sans-Serif\" font-size=\"14.00\">gini = 0.9</text>\n",
       "<text text-anchor=\"start\" x=\"187.71\" y=\"-306.8\" font-family=\"Helvetica,sans-Serif\" font-size=\"14.00\">samples = 10</text>\n",
       "<text text-anchor=\"start\" x=\"127\" y=\"-292.8\" font-family=\"Helvetica,sans-Serif\" font-size=\"14.00\">value = [1, 1, 1, 1, 1, 1, 1, 1, 1, 1]</text>\n",
       "</g>\n",
       "<!-- 1 -->\n",
       "<g id=\"node2\" class=\"node\">\n",
       "<title>1</title>\n",
       "<path fill=\"#e2e539\" stroke=\"black\" d=\"M209.12,-243C209.12,-243 11.96,-243 11.96,-243 5.96,-243 -0.04,-237 -0.04,-231 -0.04,-231 -0.04,-205 -0.04,-205 -0.04,-199 5.96,-193 11.96,-193 11.96,-193 209.12,-193 209.12,-193 215.12,-193 221.12,-199 221.12,-205 221.12,-205 221.12,-231 221.12,-231 221.12,-237 215.12,-243 209.12,-243\"/>\n",
       "<text text-anchor=\"start\" x=\"81.93\" y=\"-227.8\" font-family=\"Helvetica,sans-Serif\" font-size=\"14.00\">gini = 0.0</text>\n",
       "<text text-anchor=\"start\" x=\"72.6\" y=\"-213.8\" font-family=\"Helvetica,sans-Serif\" font-size=\"14.00\">samples = 1</text>\n",
       "<text text-anchor=\"start\" x=\"8\" y=\"-199.8\" font-family=\"Helvetica,sans-Serif\" font-size=\"14.00\">value = [0, 1, 0, 0, 0, 0, 0, 0, 0, 0]</text>\n",
       "</g>\n",
       "<!-- 0&#45;&gt;1 -->\n",
       "<g id=\"edge1\" class=\"edge\">\n",
       "<title>0&#45;&gt;1</title>\n",
       "<path fill=\"none\" stroke=\"black\" d=\"M191.89,-285.99C177.88,-274.46 162.01,-261.39 148.02,-249.87\"/>\n",
       "<polygon fill=\"black\" stroke=\"black\" points=\"149.98,-246.94 140.03,-243.29 145.53,-252.35 149.98,-246.94\"/>\n",
       "<text text-anchor=\"middle\" x=\"142.44\" y=\"-263.97\" font-family=\"Helvetica,sans-Serif\" font-size=\"14.00\">True</text>\n",
       "</g>\n",
       "<!-- 2 -->\n",
       "<g id=\"node3\" class=\"node\">\n",
       "<title>2</title>\n",
       "<path fill=\"#ffffff\" stroke=\"black\" d=\"M448.12,-250C448.12,-250 250.96,-250 250.96,-250 244.96,-250 238.96,-244 238.96,-238 238.96,-238 238.96,-198 238.96,-198 238.96,-192 244.96,-186 250.96,-186 250.96,-186 448.12,-186 448.12,-186 454.12,-186 460.12,-192 460.12,-198 460.12,-198 460.12,-238 460.12,-238 460.12,-244 454.12,-250 448.12,-250\"/>\n",
       "<text text-anchor=\"start\" x=\"328.58\" y=\"-234.8\" font-family=\"Helvetica,sans-Serif\" font-size=\"14.00\">x ≤ 2.5</text>\n",
       "<text text-anchor=\"start\" x=\"313.15\" y=\"-220.8\" font-family=\"Helvetica,sans-Serif\" font-size=\"14.00\">gini = 0.889</text>\n",
       "<text text-anchor=\"start\" x=\"311.6\" y=\"-206.8\" font-family=\"Helvetica,sans-Serif\" font-size=\"14.00\">samples = 9</text>\n",
       "<text text-anchor=\"start\" x=\"247\" y=\"-192.8\" font-family=\"Helvetica,sans-Serif\" font-size=\"14.00\">value = [1, 0, 1, 1, 1, 1, 1, 1, 1, 1]</text>\n",
       "</g>\n",
       "<!-- 0&#45;&gt;2 -->\n",
       "<g id=\"edge2\" class=\"edge\">\n",
       "<title>0&#45;&gt;2</title>\n",
       "<path fill=\"none\" stroke=\"black\" d=\"M267.51,-285.99C278.89,-276.7 291.5,-266.4 303.35,-256.72\"/>\n",
       "<polygon fill=\"black\" stroke=\"black\" points=\"305.87,-259.18 311.41,-250.14 301.45,-253.76 305.87,-259.18\"/>\n",
       "<text text-anchor=\"middle\" x=\"308.9\" y=\"-270.82\" font-family=\"Helvetica,sans-Serif\" font-size=\"14.00\">False</text>\n",
       "</g>\n",
       "<!-- 3 -->\n",
       "<g id=\"node4\" class=\"node\">\n",
       "<title>3</title>\n",
       "<path fill=\"#e58139\" stroke=\"black\" d=\"M328.12,-143C328.12,-143 130.96,-143 130.96,-143 124.96,-143 118.96,-137 118.96,-131 118.96,-131 118.96,-105 118.96,-105 118.96,-99 124.96,-93 130.96,-93 130.96,-93 328.12,-93 328.12,-93 334.12,-93 340.12,-99 340.12,-105 340.12,-105 340.12,-131 340.12,-131 340.12,-137 334.12,-143 328.12,-143\"/>\n",
       "<text text-anchor=\"start\" x=\"200.93\" y=\"-127.8\" font-family=\"Helvetica,sans-Serif\" font-size=\"14.00\">gini = 0.0</text>\n",
       "<text text-anchor=\"start\" x=\"191.6\" y=\"-113.8\" font-family=\"Helvetica,sans-Serif\" font-size=\"14.00\">samples = 1</text>\n",
       "<text text-anchor=\"start\" x=\"127\" y=\"-99.8\" font-family=\"Helvetica,sans-Serif\" font-size=\"14.00\">value = [1, 0, 0, 0, 0, 0, 0, 0, 0, 0]</text>\n",
       "</g>\n",
       "<!-- 2&#45;&gt;3 -->\n",
       "<g id=\"edge3\" class=\"edge\">\n",
       "<title>2&#45;&gt;3</title>\n",
       "<path fill=\"none\" stroke=\"black\" d=\"M311.57,-185.99C297.45,-174.46 281.44,-161.39 267.33,-149.87\"/>\n",
       "<polygon fill=\"black\" stroke=\"black\" points=\"269.24,-146.9 259.28,-143.29 264.81,-152.32 269.24,-146.9\"/>\n",
       "</g>\n",
       "<!-- 4 -->\n",
       "<g id=\"node5\" class=\"node\">\n",
       "<title>4</title>\n",
       "<path fill=\"#ffffff\" stroke=\"black\" d=\"M567.12,-150C567.12,-150 369.96,-150 369.96,-150 363.96,-150 357.96,-144 357.96,-138 357.96,-138 357.96,-98 357.96,-98 357.96,-92 363.96,-86 369.96,-86 369.96,-86 567.12,-86 567.12,-86 573.12,-86 579.12,-92 579.12,-98 579.12,-98 579.12,-138 579.12,-138 579.12,-144 573.12,-150 567.12,-150\"/>\n",
       "<text text-anchor=\"start\" x=\"447.58\" y=\"-134.8\" font-family=\"Helvetica,sans-Serif\" font-size=\"14.00\">x ≤ 3.5</text>\n",
       "<text text-anchor=\"start\" x=\"432.15\" y=\"-120.8\" font-family=\"Helvetica,sans-Serif\" font-size=\"14.00\">gini = 0.875</text>\n",
       "<text text-anchor=\"start\" x=\"430.6\" y=\"-106.8\" font-family=\"Helvetica,sans-Serif\" font-size=\"14.00\">samples = 8</text>\n",
       "<text text-anchor=\"start\" x=\"366\" y=\"-92.8\" font-family=\"Helvetica,sans-Serif\" font-size=\"14.00\">value = [0, 0, 1, 1, 1, 1, 1, 1, 1, 1]</text>\n",
       "</g>\n",
       "<!-- 2&#45;&gt;4 -->\n",
       "<g id=\"edge4\" class=\"edge\">\n",
       "<title>2&#45;&gt;4</title>\n",
       "<path fill=\"none\" stroke=\"black\" d=\"M387.19,-185.99C398.48,-176.7 410.98,-166.4 422.73,-156.72\"/>\n",
       "<polygon fill=\"black\" stroke=\"black\" points=\"425.23,-159.2 430.72,-150.14 420.78,-153.8 425.23,-159.2\"/>\n",
       "</g>\n",
       "<!-- 5 -->\n",
       "<g id=\"node6\" class=\"node\">\n",
       "<title>5</title>\n",
       "<path fill=\"#39e55e\" stroke=\"black\" d=\"M447.12,-50C447.12,-50 249.96,-50 249.96,-50 243.96,-50 237.96,-44 237.96,-38 237.96,-38 237.96,-12 237.96,-12 237.96,-6 243.96,0 249.96,0 249.96,0 447.12,0 447.12,0 453.12,0 459.12,-6 459.12,-12 459.12,-12 459.12,-38 459.12,-38 459.12,-44 453.12,-50 447.12,-50\"/>\n",
       "<text text-anchor=\"start\" x=\"319.93\" y=\"-34.8\" font-family=\"Helvetica,sans-Serif\" font-size=\"14.00\">gini = 0.0</text>\n",
       "<text text-anchor=\"start\" x=\"310.6\" y=\"-20.8\" font-family=\"Helvetica,sans-Serif\" font-size=\"14.00\">samples = 1</text>\n",
       "<text text-anchor=\"start\" x=\"246\" y=\"-6.8\" font-family=\"Helvetica,sans-Serif\" font-size=\"14.00\">value = [0, 0, 0, 1, 0, 0, 0, 0, 0, 0]</text>\n",
       "</g>\n",
       "<!-- 4&#45;&gt;5 -->\n",
       "<g id=\"edge5\" class=\"edge\">\n",
       "<title>4&#45;&gt;5</title>\n",
       "<path fill=\"none\" stroke=\"black\" d=\"M427.58,-85.94C414.88,-76.31 400.91,-65.72 388.3,-56.15\"/>\n",
       "<polygon fill=\"black\" stroke=\"black\" points=\"390.31,-53.28 380.23,-50.03 386.08,-58.86 390.31,-53.28\"/>\n",
       "</g>\n",
       "<!-- 6 -->\n",
       "<g id=\"node7\" class=\"node\">\n",
       "<title>6</title>\n",
       "<path fill=\"#ffffff\" stroke=\"black\" d=\"M686.12,-50C686.12,-50 488.96,-50 488.96,-50 482.96,-50 476.96,-44 476.96,-38 476.96,-38 476.96,-12 476.96,-12 476.96,-6 482.96,0 488.96,0 488.96,0 686.12,0 686.12,0 692.12,0 698.12,-6 698.12,-12 698.12,-12 698.12,-38 698.12,-38 698.12,-44 692.12,-50 686.12,-50\"/>\n",
       "<text text-anchor=\"start\" x=\"551.15\" y=\"-34.8\" font-family=\"Helvetica,sans-Serif\" font-size=\"14.00\">gini = 0.857</text>\n",
       "<text text-anchor=\"start\" x=\"549.6\" y=\"-20.8\" font-family=\"Helvetica,sans-Serif\" font-size=\"14.00\">samples = 7</text>\n",
       "<text text-anchor=\"start\" x=\"485\" y=\"-6.8\" font-family=\"Helvetica,sans-Serif\" font-size=\"14.00\">value = [0, 0, 1, 0, 1, 1, 1, 1, 1, 1]</text>\n",
       "</g>\n",
       "<!-- 4&#45;&gt;6 -->\n",
       "<g id=\"edge6\" class=\"edge\">\n",
       "<title>4&#45;&gt;6</title>\n",
       "<path fill=\"none\" stroke=\"black\" d=\"M509.16,-85.94C521.75,-76.31 535.6,-65.72 548.11,-56.15\"/>\n",
       "<polygon fill=\"black\" stroke=\"black\" points=\"550.3,-58.88 556.12,-50.03 546.05,-53.32 550.3,-58.88\"/>\n",
       "</g>\n",
       "</g>\n",
       "</svg>\n"
      ],
      "text/plain": [
       "<graphviz.files.Source at 0x123076d30>"
      ]
     },
     "metadata": {},
     "output_type": "display_data"
    }
   ],
   "source": [
    "# Graphviz import\n",
    "import graphviz as gv\n",
    "\n",
    "# Where the decision trees live\n",
    "from sklearn import tree\n",
    "\n",
    "dtc = tree.DecisionTreeClassifier(max_depth=3)\n",
    "dtc = dtc.fit(X, y)\n",
    "\n",
    "# Render a tree using graphviz\n",
    "out = tree.export_graphviz(dtc, out_file=None, feature_names=['x'], filled=True, rounded=True,\n",
    "                         special_characters=True)\n",
    "\n",
    "from IPython.display import display\n",
    "# Display it using IPython display\n",
    "graph=gv.Source(out)\n",
    "display(graph)"
   ]
  },
  {
   "cell_type": "markdown",
   "metadata": {},
   "source": [
    "We'll talk a LOT more about trees later."
   ]
  },
  {
   "cell_type": "markdown",
   "metadata": {},
   "source": [
    "# Fin\n",
    "\n",
    "If all of the above cells process fine, you should now be able to run all the notebooks in this exercise."
   ]
  }
 ],
 "metadata": {
  "kernelspec": {
   "display_name": "Python 3",
   "language": "python",
   "name": "python3"
  },
  "language_info": {
   "codemirror_mode": {
    "name": "ipython",
    "version": 3
   },
   "file_extension": ".py",
   "mimetype": "text/x-python",
   "name": "python",
   "nbconvert_exporter": "python",
   "pygments_lexer": "ipython3",
   "version": "3.7.3"
  }
 },
 "nbformat": 4,
 "nbformat_minor": 4
}
