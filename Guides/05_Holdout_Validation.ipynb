{
 "cells": [
  {
   "cell_type": "markdown",
   "metadata": {},
   "source": [
    "# Holdout validation\n",
    "\n",
    "**Author: [Kevin Broløs](https://abzu.ai/team)**\n",
    "\n",
    "In this notebook we'll talk about splitting your dataset into a Train and Test set (also called a holdout set).\n",
    "\n",
    "We'll also talk about the benefit of multiple splits for hyperparameter search, using simple models."
   ]
  },
  {
   "cell_type": "code",
   "execution_count": 1,
   "metadata": {},
   "outputs": [],
   "source": [
    "from sklearn.datasets import load_iris\n",
    "from IPython.display import display\n",
    "from sklearn import model_selection\n",
    "import numpy as np\n",
    "\n",
    "import matplotlib.pyplot as plt\n",
    "\n",
    "random_state = 42 # For convenience and reproducibility in results. Don't do this in production\n",
    "np.random.seed(random_state)"
   ]
  },
  {
   "cell_type": "code",
   "execution_count": 2,
   "metadata": {},
   "outputs": [],
   "source": [
    "iris=load_iris()\n",
    "data, feature_names = iris.data, iris.feature_names\n",
    "target, target_names = iris.target, iris.target_names"
   ]
  },
  {
   "cell_type": "markdown",
   "metadata": {},
   "source": [
    "## On Shuffling\n",
    "\n",
    "You should (almost) always shuffle your dataset when splitting. This is done to prevent ordering of the data to influence the training, such as if all the samples of each class are in sequence, or if all the values are ordered from low to high, etc."
   ]
  },
  {
   "cell_type": "markdown",
   "metadata": {},
   "source": [
    "## Let's split the dataset\n",
    "\n",
    "We'll use a built-in function of scikit learn to split the dataset going forward, but let's demonstrate a way that it could work if you were to implement it yourself using random sampling indices of an array and selecting according to that."
   ]
  },
  {
   "cell_type": "code",
   "execution_count": 3,
   "metadata": {},
   "outputs": [],
   "source": [
    "def split(X, y, test_size=0.3):\n",
    "    \"\"\"\n",
    "        Takes an X input matrix and a y vector, shuffles them and returns a train/test split of each according\n",
    "        to test_size\n",
    "    \"\"\"\n",
    "    # Get the total length\n",
    "    size = len(y)\n",
    "    \n",
    "    # Get the length at which our test set \"starts\".\n",
    "    test_idx_start = size - int(size * test_size) # cast to integer to round it\n",
    "    \n",
    "    # Get a list of random permuted indices from 0-size (the same as shuffling the set)\n",
    "    shuffled_indices = np.random.permutation(size)\n",
    "    \n",
    "    # Select the indices according to our test-split boundary defined above\n",
    "    train_idx, test_idx = shuffled_indices[:test_idx_start], shuffled_indices[test_idx_start:]\n",
    "    \n",
    "    # Return X_train, X_test, y_train, y_test\n",
    "    return X[train_idx], X[test_idx], y[train_idx], y[test_idx]    "
   ]
  },
  {
   "cell_type": "code",
   "execution_count": 4,
   "metadata": {},
   "outputs": [],
   "source": [
    "X_train, X_test, y_train, y_test = split(data, target)"
   ]
  },
  {
   "cell_type": "code",
   "execution_count": 5,
   "metadata": {},
   "outputs": [
    {
     "name": "stdout",
     "output_type": "stream",
     "text": [
      "- train --- test -\n",
      "(105, 4) | (45, 4)\n",
      "(105,)   | (45,)\n",
      "\n",
      "---\n",
      "Training data classes: \n",
      " [1 0 2 1 1 0 1 2 1 1 2 0 0 0 0 1 2 1 1 2 0 2 0 2 2 2 2 2 0 0 0 0 1 0 0 2 1\n",
      " 0 0 0 2 1 1 0 0 1 2 2 1 2 1 2 1 0 2 1 0 0 0 1 2 0 0 0 1 0 1 2 0 1 2 0 2 2\n",
      " 1 1 2 1 0 1 2 0 0 1 1 0 2 0 0 1 1 2 1 2 2 1 0 0 2 2 0 0 0 1 2]\n",
      "Test data classes: \n",
      " [0 2 2 0 1 1 2 1 2 0 2 1 2 1 1 1 0 1 1 0 1 2 2 0 1 2 2 0 2 0 1 2 2 1 2 1 1\n",
      " 2 2 0 1 2 0 1 2]\n"
     ]
    }
   ],
   "source": [
    "print(\"- train --- test -\")\n",
    "print(X_train.shape, \"|\", X_test.shape)\n",
    "print(y_train.shape, \"  |\", y_test.shape)\n",
    "\n",
    "print(\"\\n---\")\n",
    "print(\"Training data classes: \\n\", y_train)\n",
    "print(\"Test data classes: \\n\", y_test)"
   ]
  },
  {
   "cell_type": "markdown",
   "metadata": {},
   "source": [
    "## Using sklearn\n",
    "\n",
    "This allows us to specify a random state directly, use all kinds of signatures depending on the output we prefer"
   ]
  },
  {
   "cell_type": "code",
   "execution_count": 6,
   "metadata": {},
   "outputs": [
    {
     "name": "stdout",
     "output_type": "stream",
     "text": [
      "- train --- test -\n",
      "(105, 4) | (45, 4)\n",
      "(105,)   | (45,)\n",
      "\n",
      "---\n",
      "Training data classes: \n",
      " [1 2 2 1 2 1 2 1 0 2 1 0 0 0 1 2 0 0 0 1 0 1 2 0 1 2 0 2 2 1 1 2 1 0 1 2 0\n",
      " 0 1 1 0 2 0 0 1 1 2 1 2 2 1 0 0 2 2 0 0 0 1 2 0 2 2 0 1 1 2 1 2 0 2 1 2 1\n",
      " 1 1 0 1 1 0 1 2 2 0 1 2 2 0 2 0 1 2 2 1 2 1 1 2 2 0 1 2 0 1 2]\n",
      "Test data classes: \n",
      " [1 0 2 1 1 0 1 2 1 1 2 0 0 0 0 1 2 1 1 2 0 2 0 2 2 2 2 2 0 0 0 0 1 0 0 2 1\n",
      " 0 0 0 2 1 1 0 0]\n"
     ]
    }
   ],
   "source": [
    "X_train, X_test, y_train, y_test = model_selection.train_test_split(data, target, test_size=0.3, random_state=random_state, shuffle=True)\n",
    "\n",
    "print(\"- train --- test -\")\n",
    "print(X_train.shape, \"|\", X_test.shape)\n",
    "print(y_train.shape, \"  |\", y_test.shape)\n",
    "\n",
    "print(\"\\n---\")\n",
    "print(\"Training data classes: \\n\", y_train)\n",
    "print(\"Test data classes: \\n\", y_test)"
   ]
  },
  {
   "cell_type": "markdown",
   "metadata": {},
   "source": [
    "## On stratification\n",
    "\n",
    "For classification problems, we can also choose to **stratify** our train/test split.\n",
    "\n",
    "This serves the purpose of ensuring that the ratio of each classes are kept even in both splits, so we don't end up overrepresenting some classes over the others, as compared to what we're testing against"
   ]
  },
  {
   "cell_type": "code",
   "execution_count": 7,
   "metadata": {},
   "outputs": [
    {
     "data": {
      "image/png": "[encoded data removed]",
      "text/plain": [
       "<Figure size 432x288 with 1 Axes>"
      ]
     },
     "metadata": {
      "needs_background": "light"
     },
     "output_type": "display_data"
    }
   ],
   "source": [
    "X_train, X_test, y_train, y_test = model_selection.train_test_split(data, target, test_size=0.3, random_state=random_state, shuffle=True, stratify=target)\n",
    "\n",
    "_, train_counts = np.unique(y_train, return_counts=True)\n",
    "_, test_counts = np.unique(y_test, return_counts=True)\n",
    "\n",
    "plt.bar(['class 1', 'class 2', 'class 3'], train_counts, label='train')\n",
    "plt.bar(['class 1', 'class 2', 'class 3'], test_counts, bottom=train_counts, label='test')\n",
    "\n",
    "plt.legend(bbox_to_anchor=(1.2, 1, 0, 0))\n",
    "plt.show()"
   ]
  },
  {
   "cell_type": "markdown",
   "metadata": {},
   "source": [
    "vs. non-stratified, just relying on random shuffling:"
   ]
  },
  {
   "cell_type": "code",
   "execution_count": 8,
   "metadata": {},
   "outputs": [
    {
     "data": {
      "image/png": "[encoded data removed]",
      "text/plain": [
       "<Figure size 432x288 with 1 Axes>"
      ]
     },
     "metadata": {
      "needs_background": "light"
     },
     "output_type": "display_data"
    }
   ],
   "source": [
    "X_train, X_test, y_train, y_test = model_selection.train_test_split(data, target, test_size=0.3, random_state=random_state, shuffle=True)\n",
    "\n",
    "_, train_counts = np.unique(y_train, return_counts=True)\n",
    "_, test_counts = np.unique(y_test, return_counts=True)\n",
    "\n",
    "plt.bar(['class 1', 'class 2', 'class 3'], train_counts, label='train')\n",
    "plt.bar(['class 1', 'class 2', 'class 3'], test_counts, bottom=train_counts, label='test')\n",
    "\n",
    "plt.legend(bbox_to_anchor=(1.2, 1, 0, 0))\n",
    "plt.show()"
   ]
  },
  {
   "cell_type": "markdown",
   "metadata": {},
   "source": [
    "# Validation sets\n",
    "\n",
    "Typically when doing any kind of machine learning, you'll want a holdout set to verify your final results.\n",
    "\n",
    "Sometimes, if you're tuning parameters, you still want to get an indication of how well your model generalizes, without compromising your holdout set. Even if it's you doing the job, you're still leaking information between the holdout and train sets, if you use your score on the holdout set to determine what parameters to tune.\n",
    "\n",
    "That's why we would normally also take the **train** set from before, and either split once more for a **train/validation** split (or for more automated processes, do a K-fold as we'll see later)\n",
    "\n",
    "Some machine learning models allow to do this split for you automatically, such as keras, which we'll use in part 2."
   ]
  },
  {
   "cell_type": "code",
   "execution_count": 9,
   "metadata": {},
   "outputs": [
    {
     "data": {
      "image/png": "[encoded data removed]",
      "text/plain": [
       "<Figure size 432x288 with 1 Axes>"
      ]
     },
     "metadata": {
      "needs_background": "light"
     },
     "output_type": "display_data"
    }
   ],
   "source": [
    "# Instead of relying on our previous split, I'm doing it all again to avoid contaminating our global scope variables.\n",
    "\n",
    "X, X_test, y, y_test = model_selection.train_test_split(data, target, test_size=0.3, random_state=random_state, shuffle=True, stratify=target)\n",
    "X_train, X_val, y_train, y_val = model_selection.train_test_split(X, y, test_size=0.3, random_state=random_state, shuffle=True, stratify=y)\n",
    "\n",
    "_, train_counts = np.unique(y_train, return_counts=True)\n",
    "_, val_counts = np.unique(y_val, return_counts=True)\n",
    "_, test_counts = np.unique(y_test, return_counts=True)\n",
    "\n",
    "plt.bar(['class 1', 'class 2', 'class 3'], train_counts, label='train')\n",
    "plt.bar(['class 1', 'class 2', 'class 3'], val_counts, bottom=train_counts, label='validation')\n",
    "plt.bar(['class 1', 'class 2', 'class 3'], test_counts, bottom=train_counts+val_counts, label='test')\n",
    "\n",
    "plt.legend(bbox_to_anchor=(1.3, 1, 0, 0))\n",
    "plt.show()\n"
   ]
  }
 ],
 "metadata": {
  "kernelspec": {
   "display_name": "Python 3",
   "language": "python",
   "name": "python3"
  },
  "language_info": {
   "codemirror_mode": {
    "name": "ipython",
    "version": 3
   },
   "file_extension": ".py",
   "mimetype": "text/x-python",
   "name": "python",
   "nbconvert_exporter": "python",
   "pygments_lexer": "ipython3",
   "version": "3.7.3"
  }
 },
 "nbformat": 4,
 "nbformat_minor": 4
}
