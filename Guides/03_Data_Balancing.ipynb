{
 "cells": [
  {
   "cell_type": "markdown",
   "metadata": {},
   "source": [
    "# Data Balancing\n",
    "\n",
    "**Author: [Kevin Broløs](https://abzu.ai/team)**\n",
    "\n",
    "This notebook will go through balancing datasets.\n",
    "It's mostly used for classification, though there are also methods for regression, but they are a bit more advanced and out of scope for this course.\n",
    "\n",
    "Usually, you consider balancing for classification with respect to the output variable. There are definitely balancing issues to consider for your input features as well (as hinted at during analysis and preparation, you want your data columns to be representative of the true distribution, whatever it may be), but we are going to only look at how to prepare your dataset to avoid skewing learning towards a single class."
   ]
  },
  {
   "cell_type": "markdown",
   "metadata": {},
   "source": [
    "# Sampling methods\n",
    "\n",
    "It is most commonly fixed when splitting and sampling your data prior to training. There are a few commonly used methods for this. There are also some advanced methods like SMOTE, which we will not go into here, but is an excellent follow-up topic once you've understood these.\n",
    "\n",
    "## What is sampling?\n",
    "\n",
    "Sampling refers to the process of picking the individual samples (data points) from your data set. It comes from statistical terms of sampling a distribution. You can do so randomly, with or without replacement, entirely, or using some more clever approaches as we will describe.\n",
    "\n",
    "The result will be that the new sampled set will have a different representation and you want that to be as fair as possible for modelling.\n",
    "\n",
    "Consider a binary classification dataset (a dataset with two output classes).\n",
    "\n",
    "Let's call this: \n",
    "### Case 1\n",
    "If one of the classes make up 25% of the dataset and the other class 75% of the dataset, we would consider it unbalanced. It could be represented like this:\n",
    "**\\[25, 75\\]**. \n",
    "\n",
    "In this case, class 1 would be the minority class and class 2 the majority class.\n",
    "\n",
    "You can also have something like:\n",
    "### Case 2\n",
    "You can also have three classes, with the distribution, for example: \n",
    "\n",
    "**\\[15, 35, 50\\]**, \n",
    "\n",
    "which has two minority classes and one majority.\n",
    "\n",
    "And of course many more.\n",
    "\n",
    "Both of these cases would skew the learning towards the majority class, as that class has more points that influence the model than the remaining cases. In short, the model learns more about that class than the rest.\n",
    "\n",
    "An unbalanced problem also means that just always guessing the majority class would give a 75% and 50% success rate on the model, respectively for the two cases.\n",
    "\n",
    "## Oversampling\n",
    "\n",
    "Oversampling is the process of sampling the minority class **more** times, with replacement, to get it up to the same level as the majority class. So if we take case 1: \\[25, 75\\]\n",
    "\n",
    "You would sample class 2 entirely - so 75 samples. You would then either:\n",
    "* Sample class 1 entirely - 3 times - to get to 75 (you can calculate this ratio for automation)\n",
    "* Sample class 1 75 times with replacement to get up to the same representation\n",
    "\n",
    "In both cases, you now end up with a 150 samples instead of the original 100, as the minority class has duplicated samples to ensure the model learns evenly from both. Which one of these you prefer to use could be decided from some consideration of the sparsity of the data, and whether you trust you'll get a good distribution out of sampling it versus repeating it.\n",
    "Sampling is generally preferred as you don't make decisions on ordering of data - however there are cases where you can decide to repeat instead.\n",
    "\n",
    "## Undersampling\n",
    "\n",
    "Undersampling is the process of sampling the majority class **fewer** times, without replacement, to get it down to the same level as the minority class. So if we take case 1: \\[25, 75\\]\n",
    "\n",
    "You would sample class 1 entirely - so 25 samples. You would then take 25 random samples among the original 75 of class 2.\n",
    "\n",
    "The downside to this is you end up not using all of your data. You end up with 50 samples rather than the original 100, and you have to trust that your sampling is representative - which becomes less and less likely the fewer data points you use. If you have thousands or millions of well-distributed points, this can be a fine strategy. If you have 100 as in this case, oversampling would usually be preferred.\n",
    "\n",
    "## Mixed Sampling\n",
    "\n",
    "Mixed sampling is a combination of both of the two procedures. You can either take case 1, and sample both to the halfway point, or, as is more customary, you can define the midpoint among multiple classes as in case 2, and sample the minority up and the majority down.\n",
    "\n",
    "So taking case 2: \\[15, 35, 50\\]\n",
    "\n",
    "Mixed sampling would mean sampling the entirety of class 2, oversampling class 1 and undersampling class 3, following the methods above.\n",
    "\n",
    "## Sample Weights\n",
    "\n",
    "Another popular method, depending on machine learning algorithm, is to apply weights to the samples. This is very popular in boosting algorithms and some models that allow access to the learning rate.\n",
    "\n",
    "Essentially, instead of resampling at all, you can assign weights to each sample according to their ratio to the majority class, and it will count more for each and make up for the lack of samples.\n",
    "\n",
    "In essence, it is about the same as oversampling (with some details left out on how it works in practice for especially neural networks), but you train fewer times on fewer samples, which makes it preferable for large problems."
   ]
  },
  {
   "cell_type": "markdown",
   "metadata": {},
   "source": [
    "# A note on train/test splitting and stratification\n",
    "\n",
    "It's important to note that balancing is done for the purposes of making sure the model is not skewed during training.\n",
    "\n",
    "You should never balance your validation or holdout (test) set, as that can skew your idea of the performance of the model.\n",
    "\n",
    "In these cases, I would recommend you first split the dataset accordingly, and then balance the training set.\n",
    "\n",
    "However, when you split data for classification, you should use a process called \"Stratification\" according to the output class. The idea is to ensure that the two splits, regardless of their respective sizes, have the same ratio of classes represented amongst themselves.\n",
    "\n",
    "So if we take case 1 above, the ratio between class 1 and class 2 will be 3 in both the training and test set (prior to balancing the train set), after splitting the data set into a train/test set.\n",
    "\n",
    "This is important to make sure that we don't skew our data sets in the process of randomly sampling and splitting them. If we were to split them without stratification, an extreme could be that all the class 1 cases would be in the training set, and all the class 2 cases would be in the test set.\n",
    "\n",
    "Exactly to avoid the last point, you should also (almost) always shuffle your data, as it may have unwanted ordering."
   ]
  },
  {
   "cell_type": "markdown",
   "metadata": {},
   "source": [
    "# Let's try it out\n",
    "\n",
    "We'll load the wine dataset (also available on sklearn) to try out these features. It has three slightly unbalanced classes, representing three different types of wine."
   ]
  },
  {
   "cell_type": "code",
   "execution_count": 1,
   "metadata": {},
   "outputs": [],
   "source": [
    "import numpy as np\n",
    "from sklearn.datasets import load_wine\n",
    "from sklearn.model_selection import train_test_split\n",
    "import matplotlib.pyplot as plt\n",
    "\n",
    "wine = load_wine()\n",
    "\n",
    "# Extract the data, target classes and features from the wine dataset\n",
    "data, feature_names = wine.data, wine.feature_names\n",
    "target, target_names = wine.target, wine.target_names"
   ]
  },
  {
   "cell_type": "code",
   "execution_count": 2,
   "metadata": {},
   "outputs": [
    {
     "name": "stdout",
     "output_type": "stream",
     "text": [
      "Features: ['alcohol', 'malic_acid', 'ash', 'alcalinity_of_ash', 'magnesium', 'total_phenols', 'flavanoids', 'nonflavanoid_phenols', 'proanthocyanins', 'color_intensity', 'hue', 'od280/od315_of_diluted_wines', 'proline'] \n",
      "\n",
      "target classes: ['class_0' 'class_1' 'class_2']\n"
     ]
    }
   ],
   "source": [
    "print('Features:', feature_names, '\\n\\ntarget classes:', target_names)"
   ]
  },
  {
   "cell_type": "markdown",
   "metadata": {},
   "source": [
    "## Representation\n",
    "Let's take a look at the representation of our full target vector:"
   ]
  },
  {
   "cell_type": "code",
   "execution_count": 3,
   "metadata": {},
   "outputs": [
    {
     "data": {
      "text/plain": [
       "(array([0, 1, 2]), array([59, 71, 48]))"
      ]
     },
     "execution_count": 3,
     "metadata": {},
     "output_type": "execute_result"
    }
   ],
   "source": [
    "np.unique(target, return_counts=True)"
   ]
  },
  {
   "cell_type": "markdown",
   "metadata": {},
   "source": [
    "Let's print the ratios using a helper function, so we can see what happens after splitting with stratification"
   ]
  },
  {
   "cell_type": "code",
   "execution_count": 4,
   "metadata": {},
   "outputs": [],
   "source": [
    "def ratios(y_vector):\n",
    "    _, class_counts = np.unique(y_vector, return_counts=True)\n",
    "    ratios = []\n",
    "    for c in class_counts:\n",
    "        ratio = c / class_counts\n",
    "        ratios.append(ratio)\n",
    "    return ratios"
   ]
  },
  {
   "cell_type": "code",
   "execution_count": 5,
   "metadata": {},
   "outputs": [
    {
     "name": "stdout",
     "output_type": "stream",
     "text": [
      "[1.         0.83098592 1.22916667]\n",
      "[1.20338983 1.         1.47916667]\n",
      "[0.81355932 0.67605634 1.        ]\n"
     ]
    }
   ],
   "source": [
    "r = ratios(target)\n",
    "for ratio in r:\n",
    "    print(ratio)"
   ]
  },
  {
   "cell_type": "markdown",
   "metadata": {},
   "source": [
    "Taking the majority class as perspective (in this case the middle row), these ratios also happen to be the sample weights you would use in a sample-weights based approach."
   ]
  },
  {
   "cell_type": "code",
   "execution_count": 6,
   "metadata": {},
   "outputs": [
    {
     "data": {
      "image/png": "[encoded data removed]",
      "text/plain": [
       "<Figure size 432x288 with 1 Axes>"
      ]
     },
     "metadata": {
      "needs_background": "light"
     },
     "output_type": "display_data"
    }
   ],
   "source": [
    "plt.hist(target)\n",
    "plt.show()"
   ]
  },
  {
   "cell_type": "markdown",
   "metadata": {},
   "source": [
    "## Splitting the data"
   ]
  },
  {
   "cell_type": "code",
   "execution_count": 7,
   "metadata": {},
   "outputs": [],
   "source": [
    "# Because we shuffle and stratify, we need to pass both the data (X) and target (y), and assign them separately\n",
    "\n",
    "X_train, X_test, y_train, y_test = train_test_split(data, target, shuffle=True, stratify=target, test_size=0.3)"
   ]
  },
  {
   "cell_type": "markdown",
   "metadata": {},
   "source": [
    "Let's take a look at the representation of our train y-vector"
   ]
  },
  {
   "cell_type": "code",
   "execution_count": 8,
   "metadata": {},
   "outputs": [
    {
     "data": {
      "text/plain": [
       "array([41, 50, 33])"
      ]
     },
     "execution_count": 8,
     "metadata": {},
     "output_type": "execute_result"
    }
   ],
   "source": [
    "_, stratified_counts = np.unique(y_train, return_counts=True)\n",
    "stratified_counts"
   ]
  },
  {
   "cell_type": "code",
   "execution_count": 9,
   "metadata": {},
   "outputs": [
    {
     "name": "stdout",
     "output_type": "stream",
     "text": [
      "[1.         0.82       1.24242424]\n",
      "[1.2195122  1.         1.51515152]\n",
      "[0.80487805 0.66       1.        ]\n"
     ]
    }
   ],
   "source": [
    "r = ratios(y_train)\n",
    "for ratio in r:\n",
    "    print(ratio)"
   ]
  },
  {
   "cell_type": "code",
   "execution_count": 10,
   "metadata": {
    "scrolled": true
   },
   "outputs": [
    {
     "name": "stdout",
     "output_type": "stream",
     "text": [
      "[1.         0.85714286 1.2       ]\n",
      "[1.16666667 1.         1.4       ]\n",
      "[0.83333333 0.71428571 1.        ]\n"
     ]
    }
   ],
   "source": [
    "r = ratios(y_test)\n",
    "for ratio in r:\n",
    "    print(ratio)"
   ]
  },
  {
   "cell_type": "markdown",
   "metadata": {},
   "source": [
    "You'll note these ratios are quite close to the original distribution. It's of course hard to do perfect as you cannot always make an even split"
   ]
  },
  {
   "cell_type": "markdown",
   "metadata": {},
   "source": [
    "# Balancing the data\n",
    "\n",
    "Let's start with just getting the indices of all the classes in our y-vector"
   ]
  },
  {
   "cell_type": "code",
   "execution_count": 11,
   "metadata": {},
   "outputs": [],
   "source": [
    "class1 = np.where(y_train == 0)[0]\n",
    "class2 = np.where(y_train == 1)[0]\n",
    "class3 = np.where(y_train == 2)[0]"
   ]
  },
  {
   "cell_type": "markdown",
   "metadata": {},
   "source": [
    "## Oversampling"
   ]
  },
  {
   "cell_type": "code",
   "execution_count": 12,
   "metadata": {},
   "outputs": [
    {
     "name": "stdout",
     "output_type": "stream",
     "text": [
      "41 50 33\n"
     ]
    }
   ],
   "source": [
    "# Which is the majority class?\n",
    "print(len(class1), len(class2), len(class3))"
   ]
  },
  {
   "cell_type": "code",
   "execution_count": 13,
   "metadata": {},
   "outputs": [],
   "source": [
    "majority = len(class2)"
   ]
  },
  {
   "cell_type": "code",
   "execution_count": 14,
   "metadata": {},
   "outputs": [],
   "source": [
    "# Sample the remaining classes according to the majority size, with replacement\n",
    "class1_up = np.random.choice(class1, size=majority, replace=True)\n",
    "class3_up = np.random.choice(class3, size=majority, replace=True)"
   ]
  },
  {
   "cell_type": "markdown",
   "metadata": {},
   "source": [
    "Next step is sampling each of the classes and making a new, balanced, dataset"
   ]
  },
  {
   "cell_type": "code",
   "execution_count": 15,
   "metadata": {},
   "outputs": [
    {
     "data": {
      "text/plain": [
       "(150, 13)"
      ]
     },
     "execution_count": 15,
     "metadata": {},
     "output_type": "execute_result"
    }
   ],
   "source": [
    "indices = np.concatenate([class1_up, class2, class3_up])\n",
    "y_train_bal = y_train[indices]\n",
    "X_train_bal = X_train[indices]\n",
    "\n",
    "X_train_bal.shape"
   ]
  },
  {
   "cell_type": "markdown",
   "metadata": {},
   "source": [
    "You'll notice we now have 150 samples total.\n",
    "\n",
    "Let's print the target column"
   ]
  },
  {
   "cell_type": "code",
   "execution_count": 16,
   "metadata": {},
   "outputs": [
    {
     "data": {
      "text/plain": [
       "array([0, 0, 0, 0, 0, 0, 0, 0, 0, 0, 0, 0, 0, 0, 0, 0, 0, 0, 0, 0, 0, 0,\n",
       "       0, 0, 0, 0, 0, 0, 0, 0, 0, 0, 0, 0, 0, 0, 0, 0, 0, 0, 0, 0, 0, 0,\n",
       "       0, 0, 0, 0, 0, 0, 1, 1, 1, 1, 1, 1, 1, 1, 1, 1, 1, 1, 1, 1, 1, 1,\n",
       "       1, 1, 1, 1, 1, 1, 1, 1, 1, 1, 1, 1, 1, 1, 1, 1, 1, 1, 1, 1, 1, 1,\n",
       "       1, 1, 1, 1, 1, 1, 1, 1, 1, 1, 1, 1, 2, 2, 2, 2, 2, 2, 2, 2, 2, 2,\n",
       "       2, 2, 2, 2, 2, 2, 2, 2, 2, 2, 2, 2, 2, 2, 2, 2, 2, 2, 2, 2, 2, 2,\n",
       "       2, 2, 2, 2, 2, 2, 2, 2, 2, 2, 2, 2, 2, 2, 2, 2, 2, 2])"
      ]
     },
     "execution_count": 16,
     "metadata": {},
     "output_type": "execute_result"
    }
   ],
   "source": [
    "y_train_bal"
   ]
  },
  {
   "cell_type": "markdown",
   "metadata": {},
   "source": [
    "And let's finally print the ratios to convince ourselves we did a good job"
   ]
  },
  {
   "cell_type": "code",
   "execution_count": 17,
   "metadata": {},
   "outputs": [
    {
     "name": "stdout",
     "output_type": "stream",
     "text": [
      "[1. 1. 1.]\n",
      "[1. 1. 1.]\n",
      "[1. 1. 1.]\n"
     ]
    }
   ],
   "source": [
    "r = ratios(y_train_bal)\n",
    "for ratio in r:\n",
    "    print(ratio)"
   ]
  },
  {
   "cell_type": "code",
   "execution_count": 18,
   "metadata": {},
   "outputs": [
    {
     "data": {
      "image/png": "[encoded data removed]",
      "text/plain": [
       "<Figure size 432x288 with 1 Axes>"
      ]
     },
     "metadata": {
      "needs_background": "light"
     },
     "output_type": "display_data"
    }
   ],
   "source": [
    "plt.hist(y_train_bal)\n",
    "plt.show()"
   ]
  },
  {
   "cell_type": "markdown",
   "metadata": {},
   "source": [
    "## Undersampling\n",
    "\n",
    "Quite similar to above, but with the minority class"
   ]
  },
  {
   "cell_type": "code",
   "execution_count": 19,
   "metadata": {},
   "outputs": [
    {
     "name": "stdout",
     "output_type": "stream",
     "text": [
      "41 50 33\n"
     ]
    }
   ],
   "source": [
    "# Which is the minority class?\n",
    "print(len(class1), len(class2), len(class3))"
   ]
  },
  {
   "cell_type": "code",
   "execution_count": 20,
   "metadata": {},
   "outputs": [],
   "source": [
    "minority = len(class3)"
   ]
  },
  {
   "cell_type": "code",
   "execution_count": 21,
   "metadata": {},
   "outputs": [],
   "source": [
    "# Sample the remaining classes according to the majority size, with replacement\n",
    "class1_up = np.random.choice(class1, size=minority, replace=True)\n",
    "class2_up = np.random.choice(class2, size=minority, replace=True)"
   ]
  },
  {
   "cell_type": "markdown",
   "metadata": {},
   "source": [
    "Next step is sampling each of the classes and making a new, balanced, dataset"
   ]
  },
  {
   "cell_type": "code",
   "execution_count": 22,
   "metadata": {},
   "outputs": [
    {
     "data": {
      "text/plain": [
       "(99, 13)"
      ]
     },
     "execution_count": 22,
     "metadata": {},
     "output_type": "execute_result"
    }
   ],
   "source": [
    "indices = np.concatenate([class1_up, class2_up, class3])\n",
    "y_train_bal = y_train[indices]\n",
    "X_train_bal = X_train[indices]\n",
    "\n",
    "X_train_bal.shape"
   ]
  },
  {
   "cell_type": "markdown",
   "metadata": {},
   "source": [
    "**We now have 99 samples (33\\*3), so we're using less of our dataset than in the above case.**\n",
    "\n",
    "Let's print the target column"
   ]
  },
  {
   "cell_type": "code",
   "execution_count": 23,
   "metadata": {},
   "outputs": [
    {
     "data": {
      "text/plain": [
       "array([0, 0, 0, 0, 0, 0, 0, 0, 0, 0, 0, 0, 0, 0, 0, 0, 0, 0, 0, 0, 0, 0,\n",
       "       0, 0, 0, 0, 0, 0, 0, 0, 0, 0, 0, 1, 1, 1, 1, 1, 1, 1, 1, 1, 1, 1,\n",
       "       1, 1, 1, 1, 1, 1, 1, 1, 1, 1, 1, 1, 1, 1, 1, 1, 1, 1, 1, 1, 1, 1,\n",
       "       2, 2, 2, 2, 2, 2, 2, 2, 2, 2, 2, 2, 2, 2, 2, 2, 2, 2, 2, 2, 2, 2,\n",
       "       2, 2, 2, 2, 2, 2, 2, 2, 2, 2, 2])"
      ]
     },
     "execution_count": 23,
     "metadata": {},
     "output_type": "execute_result"
    }
   ],
   "source": [
    "y_train_bal"
   ]
  },
  {
   "cell_type": "markdown",
   "metadata": {},
   "source": [
    "And let's finally print the ratios to convince ourselves we did a good job"
   ]
  },
  {
   "cell_type": "code",
   "execution_count": 24,
   "metadata": {},
   "outputs": [
    {
     "name": "stdout",
     "output_type": "stream",
     "text": [
      "[1. 1. 1.]\n",
      "[1. 1. 1.]\n",
      "[1. 1. 1.]\n"
     ]
    }
   ],
   "source": [
    "r = ratios(y_train_bal)\n",
    "for ratio in r:\n",
    "    print(ratio)"
   ]
  },
  {
   "cell_type": "code",
   "execution_count": 25,
   "metadata": {},
   "outputs": [
    {
     "data": {
      "image/png": "[encoded data removed]",
      "text/plain": [
       "<Figure size 432x288 with 1 Axes>"
      ]
     },
     "metadata": {
      "needs_background": "light"
     },
     "output_type": "display_data"
    }
   ],
   "source": [
    "plt.hist(y_train_bal)\n",
    "plt.show()"
   ]
  },
  {
   "cell_type": "markdown",
   "metadata": {},
   "source": [
    "## Mixed Sampling\n",
    "\n",
    "There's a few approaches.\n",
    "We can either just take the middle class, as describes in the top, or we can sample according to the average representation - using the mean."
   ]
  },
  {
   "cell_type": "code",
   "execution_count": 26,
   "metadata": {},
   "outputs": [
    {
     "name": "stdout",
     "output_type": "stream",
     "text": [
      "Mean sample (integer) 41\n",
      "Sample class lengths: 41 50 33\n"
     ]
    }
   ],
   "source": [
    "# What is the mean?\n",
    "print(\"Mean sample (integer)\", int(np.mean([len(class1), len(class2), len(class3)])))\n",
    "print(\"Sample class lengths:\", len(class1), len(class2), len(class3))"
   ]
  },
  {
   "cell_type": "markdown",
   "metadata": {},
   "source": [
    "In this case, they're one and the same. Using the mean is simpler to calculate, but bears some risk in the groups where you're close to the amount of samples but you want to sample without replacement.\n",
    "\n",
    "So let's just simplify it by entirely sampling the middle class."
   ]
  },
  {
   "cell_type": "code",
   "execution_count": 27,
   "metadata": {},
   "outputs": [],
   "source": [
    "middle = int(np.mean([len(class1), len(class2), len(class3)]))"
   ]
  },
  {
   "cell_type": "code",
   "execution_count": 28,
   "metadata": {},
   "outputs": [],
   "source": [
    "# Sample the remaining classes according to the majority size, with replacement\n",
    "class2_down = np.random.choice(class2, size=middle, replace=True)\n",
    "class3_up = np.random.choice(class3, size=middle, replace=True)"
   ]
  },
  {
   "cell_type": "markdown",
   "metadata": {},
   "source": [
    "Next step is sampling each of the classes and making a new, balanced, dataset"
   ]
  },
  {
   "cell_type": "code",
   "execution_count": 29,
   "metadata": {},
   "outputs": [
    {
     "data": {
      "text/plain": [
       "(123, 13)"
      ]
     },
     "execution_count": 29,
     "metadata": {},
     "output_type": "execute_result"
    }
   ],
   "source": [
    "indices = np.concatenate([class1, class2_down, class3_up])\n",
    "y_train_bal = y_train[indices]\n",
    "X_train_bal = X_train[indices]\n",
    "\n",
    "X_train_bal.shape"
   ]
  },
  {
   "cell_type": "markdown",
   "metadata": {},
   "source": [
    "We now have 123 samples (41\\*3), so we're hitting a good middle ground here.\n",
    "\n",
    "Let's print the target column"
   ]
  },
  {
   "cell_type": "code",
   "execution_count": 30,
   "metadata": {},
   "outputs": [
    {
     "data": {
      "text/plain": [
       "array([0, 0, 0, 0, 0, 0, 0, 0, 0, 0, 0, 0, 0, 0, 0, 0, 0, 0, 0, 0, 0, 0,\n",
       "       0, 0, 0, 0, 0, 0, 0, 0, 0, 0, 0, 0, 0, 0, 0, 0, 0, 0, 0, 1, 1, 1,\n",
       "       1, 1, 1, 1, 1, 1, 1, 1, 1, 1, 1, 1, 1, 1, 1, 1, 1, 1, 1, 1, 1, 1,\n",
       "       1, 1, 1, 1, 1, 1, 1, 1, 1, 1, 1, 1, 1, 1, 1, 1, 2, 2, 2, 2, 2, 2,\n",
       "       2, 2, 2, 2, 2, 2, 2, 2, 2, 2, 2, 2, 2, 2, 2, 2, 2, 2, 2, 2, 2, 2,\n",
       "       2, 2, 2, 2, 2, 2, 2, 2, 2, 2, 2, 2, 2])"
      ]
     },
     "execution_count": 30,
     "metadata": {},
     "output_type": "execute_result"
    }
   ],
   "source": [
    "y_train_bal"
   ]
  },
  {
   "cell_type": "markdown",
   "metadata": {},
   "source": [
    "And let's finally print the ratios to convince ourselves we did a good job"
   ]
  },
  {
   "cell_type": "code",
   "execution_count": 31,
   "metadata": {},
   "outputs": [
    {
     "name": "stdout",
     "output_type": "stream",
     "text": [
      "[1. 1. 1.]\n",
      "[1. 1. 1.]\n",
      "[1. 1. 1.]\n"
     ]
    }
   ],
   "source": [
    "r = ratios(y_train_bal)\n",
    "for ratio in r:\n",
    "    print(ratio)"
   ]
  },
  {
   "cell_type": "code",
   "execution_count": 32,
   "metadata": {},
   "outputs": [
    {
     "data": {
      "image/png": "[encoded data removed]",
      "text/plain": [
       "<Figure size 432x288 with 1 Axes>"
      ]
     },
     "metadata": {
      "needs_background": "light"
     },
     "output_type": "display_data"
    }
   ],
   "source": [
    "plt.hist(y_train_bal)\n",
    "plt.show()"
   ]
  },
  {
   "cell_type": "markdown",
   "metadata": {},
   "source": [
    "## Sample weights\n",
    "\n",
    "As mentioned above, calculating the sample weights for each class is most easily done according to the ratios."
   ]
  },
  {
   "cell_type": "code",
   "execution_count": 33,
   "metadata": {},
   "outputs": [
    {
     "name": "stdout",
     "output_type": "stream",
     "text": [
      "[1.         0.82       1.24242424]\n",
      "[1.2195122  1.         1.51515152]\n",
      "[0.80487805 0.66       1.        ]\n"
     ]
    }
   ],
   "source": [
    "r = ratios(y_train)\n",
    "for ratio in r:\n",
    "    print(ratio)"
   ]
  },
  {
   "cell_type": "markdown",
   "metadata": {},
   "source": [
    "It shouldn't really matter which one you pick, but I prefer making my choice around 1, which means taking the ratios according to the majority. That's the second row in this instance."
   ]
  },
  {
   "cell_type": "code",
   "execution_count": 34,
   "metadata": {},
   "outputs": [
    {
     "data": {
      "text/plain": [
       "array([1.2195122 , 1.        , 1.51515152])"
      ]
     },
     "execution_count": 34,
     "metadata": {},
     "output_type": "execute_result"
    }
   ],
   "source": [
    "class_ratios = r[1]\n",
    "class_ratios"
   ]
  },
  {
   "cell_type": "markdown",
   "metadata": {},
   "source": [
    "The next step is to make an array with all the sample weights"
   ]
  },
  {
   "cell_type": "code",
   "execution_count": 35,
   "metadata": {},
   "outputs": [
    {
     "data": {
      "text/plain": [
       "array([1.2195122 , 1.2195122 , 1.51515152, 1.2195122 , 1.51515152,\n",
       "       1.2195122 , 1.51515152, 1.2195122 , 1.2195122 , 1.        ,\n",
       "       1.        , 1.        , 1.2195122 , 1.        , 1.        ,\n",
       "       1.        , 1.        , 1.        , 1.        , 1.2195122 ,\n",
       "       1.2195122 , 1.51515152, 1.        , 1.2195122 , 1.        ,\n",
       "       1.2195122 , 1.        , 1.2195122 , 1.2195122 , 1.        ,\n",
       "       1.        , 1.        , 1.        , 1.        , 1.        ,\n",
       "       1.51515152, 1.51515152, 1.2195122 , 1.2195122 , 1.2195122 ,\n",
       "       1.        , 1.        , 1.        , 1.        , 1.2195122 ,\n",
       "       1.        , 1.2195122 , 1.51515152, 1.        , 1.2195122 ,\n",
       "       1.51515152, 1.51515152, 1.2195122 , 1.        , 1.2195122 ,\n",
       "       1.        , 1.        , 1.        , 1.2195122 , 1.2195122 ,\n",
       "       1.        , 1.51515152, 1.51515152, 1.51515152, 1.2195122 ,\n",
       "       1.2195122 , 1.51515152, 1.51515152, 1.51515152, 1.51515152,\n",
       "       1.2195122 , 1.51515152, 1.        , 1.2195122 , 1.51515152,\n",
       "       1.51515152, 1.        , 1.        , 1.        , 1.2195122 ,\n",
       "       1.        , 1.2195122 , 1.51515152, 1.        , 1.51515152,\n",
       "       1.        , 1.51515152, 1.51515152, 1.        , 1.51515152,\n",
       "       1.51515152, 1.2195122 , 1.51515152, 1.2195122 , 1.51515152,\n",
       "       1.51515152, 1.        , 1.51515152, 1.51515152, 1.2195122 ,\n",
       "       1.2195122 , 1.        , 1.        , 1.        , 1.2195122 ,\n",
       "       1.        , 1.51515152, 1.        , 1.        , 1.2195122 ,\n",
       "       1.2195122 , 1.2195122 , 1.2195122 , 1.2195122 , 1.        ,\n",
       "       1.51515152, 1.        , 1.2195122 , 1.        , 1.        ,\n",
       "       1.        , 1.2195122 , 1.        , 1.51515152])"
      ]
     },
     "execution_count": 35,
     "metadata": {},
     "output_type": "execute_result"
    }
   ],
   "source": [
    "sample_weights = np.array([class_ratios[y] for y in y_train])\n",
    "sample_weights"
   ]
  },
  {
   "cell_type": "markdown",
   "metadata": {},
   "source": [
    "And then we can use these weights directly when we train a model by multiplying it to, i.e. the learning rate"
   ]
  },
  {
   "cell_type": "markdown",
   "metadata": {},
   "source": [
    "Another option is to sample from the dataset using these weights, however then we first have to normalize them so they sum to 1.\n",
    "\n",
    "You'll notice as we run this sampling for different sizes, it'll consistently be fairly close to 1, but due to the probabilistic nature it's hard to guarantee. It'll generally be more stable in its fairness on balancing the more you sample"
   ]
  },
  {
   "cell_type": "code",
   "execution_count": 36,
   "metadata": {},
   "outputs": [],
   "source": [
    "def normalize(weights):\n",
    "    return weights / weights.sum()"
   ]
  },
  {
   "cell_type": "code",
   "execution_count": 37,
   "metadata": {},
   "outputs": [],
   "source": [
    "def sample(data, size, weights):\n",
    "    return np.random.choice(y_train, size=2000, replace=True, p=normalize(sample_weights))"
   ]
  },
  {
   "cell_type": "code",
   "execution_count": 38,
   "metadata": {},
   "outputs": [
    {
     "name": "stdout",
     "output_type": "stream",
     "text": [
      "[1.         0.98088235 1.02143951]\n",
      "[1.01949025 1.         1.04134763]\n",
      "[0.97901049 0.96029412 1.        ]\n"
     ]
    }
   ],
   "source": [
    "y_train_bal = sample(y_train, size=10, weights=normalize(sample_weights))\n",
    "r = ratios(y_train_bal)\n",
    "for ratio in r:\n",
    "    print(ratio)"
   ]
  },
  {
   "cell_type": "code",
   "execution_count": 39,
   "metadata": {},
   "outputs": [
    {
     "name": "stdout",
     "output_type": "stream",
     "text": [
      "[1.         0.9360119  0.89985694]\n",
      "[1.06836248 1.         0.96137339]\n",
      "[1.11128776 1.04017857 1.        ]\n"
     ]
    }
   ],
   "source": [
    "y_train_bal = sample(y_train, size=100, weights=normalize(sample_weights))\n",
    "r = ratios(y_train_bal)\n",
    "for ratio in r:\n",
    "    print(ratio)"
   ]
  },
  {
   "cell_type": "code",
   "execution_count": 40,
   "metadata": {},
   "outputs": [
    {
     "name": "stdout",
     "output_type": "stream",
     "text": [
      "[1.         0.95461201 0.98045113]\n",
      "[1.04754601 1.         1.02706767]\n",
      "[1.01993865 0.97364568 1.        ]\n"
     ]
    }
   ],
   "source": [
    "y_train_bal = sample(y_train, size=200, weights=normalize(sample_weights))\n",
    "r = ratios(y_train_bal)\n",
    "for ratio in r:\n",
    "    print(ratio)"
   ]
  },
  {
   "cell_type": "code",
   "execution_count": 41,
   "metadata": {},
   "outputs": [
    {
     "name": "stdout",
     "output_type": "stream",
     "text": [
      "[1.         1.04739336 0.94176136]\n",
      "[0.95475113 1.         0.89914773]\n",
      "[1.06184012 1.1121643  1.        ]\n"
     ]
    }
   ],
   "source": [
    "y_train_bal = sample(y_train, size=1000, weights=normalize(sample_weights))\n",
    "r = ratios(y_train_bal)\n",
    "for ratio in r:\n",
    "    print(ratio)"
   ]
  },
  {
   "cell_type": "code",
   "execution_count": 42,
   "metadata": {},
   "outputs": [
    {
     "name": "stdout",
     "output_type": "stream",
     "text": [
      "[1.         1.05965463 0.98110465]\n",
      "[0.9437037  1.         0.92587209]\n",
      "[1.01925926 1.08006279 1.        ]\n"
     ]
    }
   ],
   "source": [
    "y_train_bal = sample(y_train, size=10000, weights=normalize(sample_weights))\n",
    "r = ratios(y_train_bal)\n",
    "for ratio in r:\n",
    "    print(ratio)"
   ]
  },
  {
   "cell_type": "code",
   "execution_count": 43,
   "metadata": {},
   "outputs": [
    {
     "data": {
      "image/png": "[encoded data removed]",
      "text/plain": [
       "<Figure size 432x288 with 1 Axes>"
      ]
     },
     "metadata": {
      "needs_background": "light"
     },
     "output_type": "display_data"
    }
   ],
   "source": [
    "plt.hist(y_train_bal)\n",
    "plt.show()"
   ]
  }
 ],
 "metadata": {
  "kernelspec": {
   "display_name": "Python 3",
   "language": "python",
   "name": "python3"
  },
  "language_info": {
   "codemirror_mode": {
    "name": "ipython",
    "version": 3
   },
   "file_extension": ".py",
   "mimetype": "text/x-python",
   "name": "python",
   "nbconvert_exporter": "python",
   "pygments_lexer": "ipython3",
   "version": "3.7.3"
  }
 },
 "nbformat": 4,
 "nbformat_minor": 4
}
