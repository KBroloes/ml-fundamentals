{
 "cells": [
  {
   "cell_type": "markdown",
   "metadata": {},
   "source": [
    "# Evaluation and Confusion Matrices\n",
    "\n",
    "**Author: [Kevin Broløs](https://abzu.ai/team)**\n",
    "\n",
    "There are different ways of evaluation your model.\n",
    "\n",
    "Here, we'll introduce a few concepts so they're familiar when you see them in practice"
   ]
  },
  {
   "cell_type": "code",
   "execution_count": 1,
   "metadata": {},
   "outputs": [],
   "source": [
    "# Load some dependencies\n",
    "from sklearn.metrics import confusion_matrix\n",
    "import sklearn\n",
    "import matplotlib.pyplot as plt\n",
    "import numpy as np"
   ]
  },
  {
   "cell_type": "code",
   "execution_count": 2,
   "metadata": {},
   "outputs": [],
   "source": [
    "# Create a fake dataset/result to showcase confusion matrices\n",
    "labels = ['Class 1', 'Class 2']\n",
    "\n",
    "# \"Expected\" output vector\n",
    "y = np.array([0, 1, 1, 1, 0, 0, 1, 0, 1, 0])\n",
    "\n",
    "# Input column\n",
    "X = np.array([0, 1, 1, 1, 0, 1, 1, 1, 0, 1])\n",
    "\n",
    "\n",
    "# Create a fake model that just returns the input\n",
    "class FakeModel(sklearn.base.ClassifierMixin):    \n",
    "    def __init__(self, labels):\n",
    "        self.classes_ = labels\n",
    "        \n",
    "    def predict(self, X):\n",
    "        return X\n",
    "\n",
    "estimator = FakeModel(labels)"
   ]
  },
  {
   "cell_type": "code",
   "execution_count": 3,
   "metadata": {},
   "outputs": [
    {
     "data": {
      "text/plain": [
       "array([0, 1, 1, 1, 0, 1, 1, 1, 0, 1])"
      ]
     },
     "execution_count": 3,
     "metadata": {},
     "output_type": "execute_result"
    }
   ],
   "source": [
    "estimator.predict(X)"
   ]
  },
  {
   "cell_type": "markdown",
   "metadata": {},
   "source": [
    "# The Confusion Matrix"
   ]
  },
  {
   "cell_type": "code",
   "execution_count": 4,
   "metadata": {},
   "outputs": [
    {
     "data": {
      "image/png": "[encoded data removed]",
      "text/plain": [
       "<Figure size 432x288 with 2 Axes>"
      ]
     },
     "metadata": {
      "needs_background": "light"
     },
     "output_type": "display_data"
    }
   ],
   "source": [
    "sklearn.metrics.plot_confusion_matrix(estimator, X, y, cmap=plt.cm.Purples)\n",
    "plt.show()"
   ]
  },
  {
   "cell_type": "markdown",
   "metadata": {},
   "source": [
    "You'll see our fake model that just returns the input results in manages to successfully classify:\n",
    "\n",
    "Found in the diagonal\n",
    "* 2 of class 1\n",
    "* 4 of class 2\n",
    "\n",
    "On the other two corners:\n",
    "* 1 was predicted to be class 1, but should have been class 2\n",
    "* 3 were predicted to be class 2, but should have been class 1"
   ]
  },
  {
   "cell_type": "markdown",
   "metadata": {},
   "source": [
    "We can calculate metrics for these to help us understand how our model performs. The most normal ones are:\n",
    "\n",
    "* Accuracy  ((TP + TN) / N)\n",
    "* Precision (TP / (TP + FP))\n",
    "* Recall    (TP / (TP + FN))\n",
    "\n",
    "Where:\n",
    "* TP = True Positive\n",
    "* TN = True Negative\n",
    "* FP = False Positive\n",
    "* FN = False Negative\n",
    "* N  = The total amount of samples\n",
    "\n",
    "sklearn has some methods for this, of course"
   ]
  },
  {
   "cell_type": "code",
   "execution_count": 5,
   "metadata": {},
   "outputs": [
    {
     "name": "stdout",
     "output_type": "stream",
     "text": [
      "Accuracy: 60.00%\n"
     ]
    }
   ],
   "source": [
    "prediction = estimator.predict(X)\n",
    "\n",
    "accuracy = sklearn.metrics.accuracy_score(y, prediction)\n",
    "print(f\"Accuracy: {accuracy:.2%}\")"
   ]
  },
  {
   "cell_type": "code",
   "execution_count": 6,
   "metadata": {},
   "outputs": [
    {
     "name": "stdout",
     "output_type": "stream",
     "text": [
      "Precision: 57.14%\n"
     ]
    }
   ],
   "source": [
    "precision = sklearn.metrics.precision_score(y, prediction)\n",
    "print(f\"Precision: {precision:.2%}\")"
   ]
  },
  {
   "cell_type": "code",
   "execution_count": 7,
   "metadata": {},
   "outputs": [
    {
     "name": "stdout",
     "output_type": "stream",
     "text": [
      "Recall: 80.00%\n"
     ]
    }
   ],
   "source": [
    "recall = sklearn.metrics.recall_score(y, prediction)\n",
    "print(f\"Recall: {recall:.2%}\")"
   ]
  },
  {
   "cell_type": "markdown",
   "metadata": {},
   "source": [
    "In this case, the accuracy is the amount of samples the estimator classifies correctly, the precision is the rate of false positives, and the recall is the rate of false negatives.\n",
    "\n",
    "\n",
    "We can see, that with an accuracy of 60%, the whole story is that it get's 80% correctly when predicting the second class, but at a great cost to the first class, with a precision of 57%"
   ]
  },
  {
   "cell_type": "markdown",
   "metadata": {},
   "source": [
    "# Multiclass\n",
    "\n",
    "When calculating precision and recall for multiple classes, you need to be a little more specific, as they are calculated between the \"positive\" and the \"negative\" class.\n",
    "\n",
    "There are multiple ways to do this - like doing it for all combinations and averaging over it.\n",
    "You can also set a \"desirable\" class that you're interested in, and use that as the positive class, and sum the others as a negative.\n",
    "\n",
    "You can also do it in combination for all the desirables.\n",
    "\n",
    "This is where the confusion matrix is super handy to get good at reading, as you don't have to strictly calculate it until you want some hard numbers\n",
    "\n",
    "Here, we'll use sklearn to average over all of them based on their sample counts, but keep in mind that that's what it's doing."
   ]
  },
  {
   "cell_type": "code",
   "execution_count": 8,
   "metadata": {},
   "outputs": [],
   "source": [
    "y2 = np.array([0, 1, 2, 0, 1, 2, 0, 1, 2])\n",
    "X2 = np.array([1, 1, 1, 0, 1, 2, 0, 1, 2])\n",
    "labels = ['Class 1', 'Class 2', 'Class 3']\n",
    "\n",
    "estimator = FakeModel(labels)\n",
    "pred2 = estimator.predict(X2)"
   ]
  },
  {
   "cell_type": "code",
   "execution_count": 9,
   "metadata": {},
   "outputs": [
    {
     "name": "stdout",
     "output_type": "stream",
     "text": [
      "Accuracy: 77.78%\n",
      "Precision: 86.67%\n",
      "Recall: 77.78%\n"
     ]
    }
   ],
   "source": [
    "accuracy = sklearn.metrics.accuracy_score(y2, pred2)\n",
    "print(f\"Accuracy: {accuracy:.2%}\")\n",
    "\n",
    "precision = sklearn.metrics.precision_score(y2, pred2, average='weighted')\n",
    "print(f\"Precision: {precision:.2%}\")\n",
    "\n",
    "recall = sklearn.metrics.recall_score(y2, pred2, average='weighted')\n",
    "print(f\"Recall: {recall:.2%}\")"
   ]
  },
  {
   "cell_type": "code",
   "execution_count": 10,
   "metadata": {},
   "outputs": [
    {
     "data": {
      "image/png": "[encoded data removed]",
      "text/plain": [
       "<Figure size 432x288 with 2 Axes>"
      ]
     },
     "metadata": {
      "needs_background": "light"
     },
     "output_type": "display_data"
    }
   ],
   "source": [
    "sklearn.metrics.plot_confusion_matrix(estimator, X2, y2, cmap=plt.cm.Purples)\n",
    "plt.show()"
   ]
  }
 ],
 "metadata": {
  "kernelspec": {
   "display_name": "Python 3",
   "language": "python",
   "name": "python3"
  },
  "language_info": {
   "codemirror_mode": {
    "name": "ipython",
    "version": 3
   },
   "file_extension": ".py",
   "mimetype": "text/x-python",
   "name": "python",
   "nbconvert_exporter": "python",
   "pygments_lexer": "ipython3",
   "version": "3.7.3"
  }
 },
 "nbformat": 4,
 "nbformat_minor": 4
}
